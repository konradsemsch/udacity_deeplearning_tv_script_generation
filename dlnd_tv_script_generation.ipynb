{
 "cells": [
  {
   "cell_type": "markdown",
   "metadata": {},
   "source": [
    "# TV Script Generation\n",
    "In this project, you'll generate your own [Simpsons](https://en.wikipedia.org/wiki/The_Simpsons) TV scripts using RNNs.  You'll be using part of the [Simpsons dataset](https://www.kaggle.com/wcukierski/the-simpsons-by-the-data) of scripts from 27 seasons.  The Neural Network you'll build will generate a new TV script for a scene at [Moe's Tavern](https://simpsonswiki.com/wiki/Moe's_Tavern).\n",
    "## Get the Data\n",
    "The data is already provided for you.  You'll be using a subset of the original dataset.  It consists of only the scenes in Moe's Tavern.  This doesn't include other versions of the tavern, like \"Moe's Cavern\", \"Flaming Moe's\", \"Uncle Moe's Family Feed-Bag\", etc.."
   ]
  },
  {
   "cell_type": "code",
   "execution_count": 1,
   "metadata": {},
   "outputs": [],
   "source": [
    "\"\"\"\n",
    "DON'T MODIFY ANYTHING IN THIS CELL\n",
    "\"\"\"\n",
    "import helper\n",
    "\n",
    "data_dir = './data/simpsons/moes_tavern_lines.txt'\n",
    "text = helper.load_data(data_dir)\n",
    "# Ignore notice, since we don't use it for analysing the data\n",
    "text = text[81:]"
   ]
  },
  {
   "cell_type": "markdown",
   "metadata": {},
   "source": [
    "## Explore the Data\n",
    "Play around with `view_sentence_range` to view different parts of the data."
   ]
  },
  {
   "cell_type": "code",
   "execution_count": 2,
   "metadata": {},
   "outputs": [
    {
     "name": "stdout",
     "output_type": "stream",
     "text": [
      "Dataset Stats\n",
      "Roughly the number of unique words: 11492\n",
      "Number of scenes: 262\n",
      "Average number of sentences in each scene: 15.248091603053435\n",
      "Number of lines: 4257\n",
      "Average number of words in each line: 11.50434578341555\n",
      "\n",
      "The sentences 0 to 10:\n",
      "Moe_Szyslak: (INTO PHONE) Moe's Tavern. Where the elite meet to drink.\n",
      "Bart_Simpson: Eh, yeah, hello, is Mike there? Last name, Rotch.\n",
      "Moe_Szyslak: (INTO PHONE) Hold on, I'll check. (TO BARFLIES) Mike Rotch. Mike Rotch. Hey, has anybody seen Mike Rotch, lately?\n",
      "Moe_Szyslak: (INTO PHONE) Listen you little puke. One of these days I'm gonna catch you, and I'm gonna carve my name on your back with an ice pick.\n",
      "Moe_Szyslak: What's the matter Homer? You're not your normal effervescent self.\n",
      "Homer_Simpson: I got my problems, Moe. Give me another one.\n",
      "Moe_Szyslak: Homer, hey, you should not drink to forget your problems.\n",
      "Barney_Gumble: Yeah, you should only drink to enhance your social skills.\n",
      "\n",
      "\n"
     ]
    }
   ],
   "source": [
    "view_sentence_range = (0, 10)\n",
    "\n",
    "\"\"\"\n",
    "DON'T MODIFY ANYTHING IN THIS CELL\n",
    "\"\"\"\n",
    "import numpy as np\n",
    "\n",
    "print('Dataset Stats')\n",
    "print('Roughly the number of unique words: {}'.format(len({word: None for word in text.split()})))\n",
    "scenes = text.split('\\n\\n')\n",
    "print('Number of scenes: {}'.format(len(scenes)))\n",
    "sentence_count_scene = [scene.count('\\n') for scene in scenes]\n",
    "print('Average number of sentences in each scene: {}'.format(np.average(sentence_count_scene)))\n",
    "\n",
    "sentences = [sentence for scene in scenes for sentence in scene.split('\\n')]\n",
    "print('Number of lines: {}'.format(len(sentences)))\n",
    "word_count_sentence = [len(sentence.split()) for sentence in sentences]\n",
    "print('Average number of words in each line: {}'.format(np.average(word_count_sentence)))\n",
    "\n",
    "print()\n",
    "print('The sentences {} to {}:'.format(*view_sentence_range))\n",
    "print('\\n'.join(text.split('\\n')[view_sentence_range[0]:view_sentence_range[1]]))"
   ]
  },
  {
   "cell_type": "markdown",
   "metadata": {},
   "source": [
    "## Implement Preprocessing Functions\n",
    "The first thing to do to any dataset is preprocessing.  Implement the following preprocessing functions below:\n",
    "- Lookup Table\n",
    "- Tokenize Punctuation\n",
    "\n",
    "### Lookup Table\n",
    "To create a word embedding, you first need to transform the words to ids.  In this function, create two dictionaries:\n",
    "- Dictionary to go from the words to an id, we'll call `vocab_to_int`\n",
    "- Dictionary to go from the id to word, we'll call `int_to_vocab`\n",
    "\n",
    "Return these dictionaries in the following tuple `(vocab_to_int, int_to_vocab)`"
   ]
  },
  {
   "cell_type": "code",
   "execution_count": 11,
   "metadata": {},
   "outputs": [],
   "source": [
    "counts = Counter(text)\n",
    "vocab  = sorted(counts, key=counts.get, reverse=True)\n",
    "vocab_to_int = {text: i for i, text in enumerate(vocab, 1)}\n",
    "int_to_vocab = {i: text for text, i in vocab_to_int.items()}"
   ]
  },
  {
   "cell_type": "code",
   "execution_count": 15,
   "metadata": {},
   "outputs": [
    {
     "data": {
      "text/plain": [
       "{1: ' ',\n",
       " 2: 'e',\n",
       " 3: 'o',\n",
       " 4: 'a',\n",
       " 5: 't',\n",
       " 6: 'n',\n",
       " 7: 's',\n",
       " 8: 'r',\n",
       " 9: 'i',\n",
       " 10: 'h',\n",
       " 11: 'l',\n",
       " 12: 'm',\n",
       " 13: 'y',\n",
       " 14: 'u',\n",
       " 15: '.',\n",
       " 16: 'd',\n",
       " 17: 'S',\n",
       " 18: '\\n',\n",
       " 19: 'g',\n",
       " 20: ':',\n",
       " 21: '_',\n",
       " 22: 'p',\n",
       " 23: 'I',\n",
       " 24: 'k',\n",
       " 25: ',',\n",
       " 26: 'w',\n",
       " 27: 'c',\n",
       " 28: \"'\",\n",
       " 29: 'H',\n",
       " 30: 'b',\n",
       " 31: 'f',\n",
       " 32: 'M',\n",
       " 33: 'E',\n",
       " 34: 'T',\n",
       " 35: 'A',\n",
       " 36: 'O',\n",
       " 37: 'N',\n",
       " 38: 'L',\n",
       " 39: '(',\n",
       " 40: ')',\n",
       " 41: 'v',\n",
       " 42: 'C',\n",
       " 43: 'G',\n",
       " 44: 'z',\n",
       " 45: '!',\n",
       " 46: 'R',\n",
       " 47: 'B',\n",
       " 48: 'D',\n",
       " 49: 'W',\n",
       " 50: '?',\n",
       " 51: 'Y',\n",
       " 52: 'U',\n",
       " 53: '-',\n",
       " 54: 'P',\n",
       " 55: 'F',\n",
       " 56: 'K',\n",
       " 57: '\"',\n",
       " 58: 'j',\n",
       " 59: 'V',\n",
       " 60: 'J',\n",
       " 61: 'x',\n",
       " 62: '/',\n",
       " 63: 'q',\n",
       " 64: 'Z',\n",
       " 65: 'Q',\n",
       " 66: 'X',\n",
       " 67: '1',\n",
       " 68: '2',\n",
       " 69: '5',\n",
       " 70: '0',\n",
       " 71: '#',\n",
       " 72: '9',\n",
       " 73: ';',\n",
       " 74: '7',\n",
       " 75: '3',\n",
       " 76: '4',\n",
       " 77: '6',\n",
       " 78: '8',\n",
       " 79: '&',\n",
       " 80: 'À',\n",
       " 81: 'é',\n",
       " 82: 'ü',\n",
       " 83: 'ó',\n",
       " 84: '%',\n",
       " 85: 'ä',\n",
       " 86: '$',\n",
       " 87: 'à',\n",
       " 88: 'è',\n",
       " 89: 'ã'}"
      ]
     },
     "execution_count": 15,
     "metadata": {},
     "output_type": "execute_result"
    }
   ],
   "source": [
    "int_to_vocab"
   ]
  },
  {
   "cell_type": "code",
   "execution_count": 48,
   "metadata": {},
   "outputs": [
    {
     "name": "stdout",
     "output_type": "stream",
     "text": [
      "Tests Passed\n"
     ]
    }
   ],
   "source": [
    "import numpy as np\n",
    "import problem_unittests as tests\n",
    "from collections import Counter\n",
    "\n",
    "def create_lookup_tables(text):\n",
    "    \"\"\"\n",
    "    Create lookup tables for vocabulary\n",
    "    :param text: The text of tv scripts split into words\n",
    "    :return: A tuple of dicts (vocab_to_int, int_to_vocab)\n",
    "    \"\"\"\n",
    "    \n",
    "    counts = Counter(text)\n",
    "    vocab  = sorted(counts, key=counts.get, reverse=True)\n",
    "\n",
    "    vocab_to_int = {text: i for i, text in enumerate(vocab)}\n",
    "    int_to_vocab = {i: text for text, i in vocab_to_int.items()}\n",
    "    \n",
    "    return vocab_to_int, int_to_vocab\n",
    "\n",
    "\n",
    "\"\"\"\n",
    "DON'T MODIFY ANYTHING IN THIS CELL THAT IS BELOW THIS LINE\n",
    "\"\"\"\n",
    "tests.test_create_lookup_tables(create_lookup_tables)"
   ]
  },
  {
   "cell_type": "markdown",
   "metadata": {},
   "source": [
    "### Tokenize Punctuation\n",
    "We'll be splitting the script into a word array using spaces as delimiters.  However, punctuations like periods and exclamation marks make it hard for the neural network to distinguish between the word \"bye\" and \"bye!\".\n",
    "\n",
    "Implement the function `token_lookup` to return a dict that will be used to tokenize symbols like \"!\" into \"||Exclamation_Mark||\".  Create a dictionary for the following symbols where the symbol is the key and value is the token:\n",
    "- Period ( . )\n",
    "- Comma ( , )\n",
    "- Quotation Mark ( \" )\n",
    "- Semicolon ( ; )\n",
    "- Exclamation mark ( ! )\n",
    "- Question mark ( ? )\n",
    "- Left Parentheses ( ( )\n",
    "- Right Parentheses ( ) )\n",
    "- Dash ( -- )\n",
    "- Return ( \\n )\n",
    "\n",
    "This dictionary will be used to token the symbols and add the delimiter (space) around it.  This separates the symbols as it's own word, making it easier for the neural network to predict on the next word. Make sure you don't use a token that could be confused as a word. Instead of using the token \"dash\", try using something like \"||dash||\"."
   ]
  },
  {
   "cell_type": "code",
   "execution_count": 49,
   "metadata": {},
   "outputs": [
    {
     "name": "stdout",
     "output_type": "stream",
     "text": [
      "Tests Passed\n"
     ]
    }
   ],
   "source": [
    "def token_lookup():\n",
    "    \"\"\"\n",
    "    Generate a dict to turn punctuation into a token.\n",
    "    :return: Tokenize dictionary where the key is the punctuation and the value is the token\n",
    "    \"\"\"\n",
    "    return {\n",
    "        '.':  '||period||',\n",
    "        ',':  '||comma||',\n",
    "        '\"':  '||quotation_mark||',\n",
    "        ';':  '||semicolon||',\n",
    "        '!':  '||exclamation_mark||',\n",
    "        '?':  '||question_mark||',\n",
    "        '(':  '||left_parenthesis||',\n",
    "        ')':  '||right_parenthesis||',\n",
    "        '--': '||dash||',\n",
    "        '\\n': '||return||'\n",
    "    }\n",
    "\n",
    "\"\"\"\n",
    "DON'T MODIFY ANYTHING IN THIS CELL THAT IS BELOW THIS LINE\n",
    "\"\"\"\n",
    "tests.test_tokenize(token_lookup)"
   ]
  },
  {
   "cell_type": "markdown",
   "metadata": {},
   "source": [
    "## Preprocess all the data and save it\n",
    "Running the code cell below will preprocess all the data and save it to file."
   ]
  },
  {
   "cell_type": "code",
   "execution_count": 50,
   "metadata": {},
   "outputs": [],
   "source": [
    "\"\"\"\n",
    "DON'T MODIFY ANYTHING IN THIS CELL\n",
    "\"\"\"\n",
    "# Preprocess Training, Validation, and Testing Data\n",
    "helper.preprocess_and_save_data(data_dir, token_lookup, create_lookup_tables)"
   ]
  },
  {
   "cell_type": "markdown",
   "metadata": {},
   "source": [
    "# Check Point\n",
    "This is your first checkpoint. If you ever decide to come back to this notebook or have to restart the notebook, you can start from here. The preprocessed data has been saved to disk."
   ]
  },
  {
   "cell_type": "code",
   "execution_count": 78,
   "metadata": {},
   "outputs": [],
   "source": [
    "\"\"\"\n",
    "DON'T MODIFY ANYTHING IN THIS CELL\n",
    "\"\"\"\n",
    "import helper\n",
    "import numpy as np\n",
    "import problem_unittests as tests\n",
    "\n",
    "int_text, vocab_to_int, int_to_vocab, token_dict = helper.load_preprocess()"
   ]
  },
  {
   "cell_type": "markdown",
   "metadata": {},
   "source": [
    "## Build the Neural Network\n",
    "You'll build the components necessary to build a RNN by implementing the following functions below:\n",
    "- get_inputs\n",
    "- get_init_cell\n",
    "- get_embed\n",
    "- build_rnn\n",
    "- build_nn\n",
    "- get_batches\n",
    "\n",
    "### Check the Version of TensorFlow and Access to GPU"
   ]
  },
  {
   "cell_type": "code",
   "execution_count": 79,
   "metadata": {},
   "outputs": [
    {
     "name": "stdout",
     "output_type": "stream",
     "text": [
      "TensorFlow Version: 1.9.0\n"
     ]
    },
    {
     "name": "stderr",
     "output_type": "stream",
     "text": [
      "/Users/konrad/.conda/envs/deep-learning/lib/python3.5/site-packages/ipykernel_launcher.py:14: UserWarning: No GPU found. Please use a GPU to train your neural network.\n",
      "  \n"
     ]
    }
   ],
   "source": [
    "\"\"\"\n",
    "DON'T MODIFY ANYTHING IN THIS CELL\n",
    "\"\"\"\n",
    "from distutils.version import LooseVersion\n",
    "import warnings\n",
    "import tensorflow as tf\n",
    "\n",
    "# Check TensorFlow Version\n",
    "assert LooseVersion(tf.__version__) >= LooseVersion('1.3'), 'Please use TensorFlow version 1.3 or newer'\n",
    "print('TensorFlow Version: {}'.format(tf.__version__))\n",
    "\n",
    "# Check for a GPU\n",
    "if not tf.test.gpu_device_name():\n",
    "    warnings.warn('No GPU found. Please use a GPU to train your neural network.')\n",
    "else:\n",
    "    print('Default GPU Device: {}'.format(tf.test.gpu_device_name()))"
   ]
  },
  {
   "cell_type": "markdown",
   "metadata": {},
   "source": [
    "### Input\n",
    "Implement the `get_inputs()` function to create TF Placeholders for the Neural Network.  It should create the following placeholders:\n",
    "- Input text placeholder named \"input\" using the [TF Placeholder](https://www.tensorflow.org/api_docs/python/tf/placeholder) `name` parameter.\n",
    "- Targets placeholder\n",
    "- Learning Rate placeholder\n",
    "\n",
    "Return the placeholders in the following tuple `(Input, Targets, LearningRate)`"
   ]
  },
  {
   "cell_type": "code",
   "execution_count": 80,
   "metadata": {},
   "outputs": [
    {
     "name": "stdout",
     "output_type": "stream",
     "text": [
      "Tests Passed\n"
     ]
    }
   ],
   "source": [
    "def get_inputs():\n",
    "    \"\"\"\n",
    "    Create TF Placeholders for input, targets, and learning rate.\n",
    "    :return: Tuple (input, targets, learning rate)\n",
    "    \"\"\"\n",
    "    \n",
    "    inputs = tf.placeholder(tf.int32, [None, None], name='input')\n",
    "    targets = tf.placeholder(tf.int32, [None, None], name='targets') # these should be integer\n",
    "    learning_rate = tf.placeholder(tf.float32, name='learning_rate') # this one should be float, without shape\n",
    "    \n",
    "    return (inputs, targets, learning_rate)\n",
    "\n",
    "\n",
    "\"\"\"\n",
    "DON'T MODIFY ANYTHING IN THIS CELL THAT IS BELOW THIS LINE\n",
    "\"\"\"\n",
    "tests.test_get_inputs(get_inputs)"
   ]
  },
  {
   "cell_type": "markdown",
   "metadata": {},
   "source": [
    "### Build RNN Cell and Initialize\n",
    "Stack one or more [`BasicLSTMCells`](https://www.tensorflow.org/api_docs/python/tf/contrib/rnn/BasicLSTMCell) in a [`MultiRNNCell`](https://www.tensorflow.org/api_docs/python/tf/contrib/rnn/MultiRNNCell).\n",
    "- The Rnn size should be set using `rnn_size`\n",
    "- Initalize Cell State using the MultiRNNCell's [`zero_state()`](https://www.tensorflow.org/api_docs/python/tf/contrib/rnn/MultiRNNCell#zero_state) function\n",
    "    - Apply the name \"initial_state\" to the initial state using [`tf.identity()`](https://www.tensorflow.org/api_docs/python/tf/identity)\n",
    "\n",
    "Return the cell and initial state in the following tuple `(Cell, InitialState)`"
   ]
  },
  {
   "cell_type": "code",
   "execution_count": 81,
   "metadata": {},
   "outputs": [
    {
     "name": "stdout",
     "output_type": "stream",
     "text": [
      "Tests Passed\n"
     ]
    }
   ],
   "source": [
    "def get_init_cell(batch_size, rnn_size):\n",
    "    \"\"\"\n",
    "    Create an RNN Cell and initialize it.\n",
    "    :param batch_size: Size of batches\n",
    "    :param rnn_size: Size of RNNs\n",
    "    :return: Tuple (cell, initialize state)\n",
    "    \"\"\"\n",
    "    \n",
    "    lstm = tf.contrib.rnn.BasicLSTMCell(rnn_size)\n",
    "    cell = tf.contrib.rnn.MultiRNNCell([lstm])\n",
    "    \n",
    "    initial_state = tf.identity(cell.zero_state(batch_size, tf.float32), name='initial_state')\n",
    "    \n",
    "    return (cell, initial_state)\n",
    "\n",
    "\n",
    "\"\"\"\n",
    "DON'T MODIFY ANYTHING IN THIS CELL THAT IS BELOW THIS LINE\n",
    "\"\"\"\n",
    "tests.test_get_init_cell(get_init_cell)"
   ]
  },
  {
   "cell_type": "markdown",
   "metadata": {},
   "source": [
    "### Word Embedding\n",
    "Apply embedding to `input_data` using TensorFlow.  Return the embedded sequence."
   ]
  },
  {
   "cell_type": "code",
   "execution_count": 82,
   "metadata": {},
   "outputs": [
    {
     "name": "stdout",
     "output_type": "stream",
     "text": [
      "Tests Passed\n"
     ]
    }
   ],
   "source": [
    "def get_embed(input_data, vocab_size, embed_dim):\n",
    "    \"\"\"\n",
    "    Create embedding for <input_data>.\n",
    "    :param input_data: TF placeholder for text input.\n",
    "    :param vocab_size: Number of words in vocabulary.\n",
    "    :param embed_dim: Number of embedding dimensions\n",
    "    :return: Embedded input.\n",
    "    \"\"\"\n",
    "    \n",
    "    # input_data = tf.placeholder(tf.int32, [None], name='input_data')\n",
    "    \n",
    "    embedding = tf.Variable(tf.random_uniform((vocab_size, embed_dim), -1, 1))\n",
    "    input_embeded = tf.nn.embedding_lookup(embedding, input_data)\n",
    "    \n",
    "    return input_embeded\n",
    "\n",
    "\"\"\"\n",
    "DON'T MODIFY ANYTHING IN THIS CELL THAT IS BELOW THIS LINE\n",
    "\"\"\"\n",
    "tests.test_get_embed(get_embed)"
   ]
  },
  {
   "cell_type": "markdown",
   "metadata": {},
   "source": [
    "### Build RNN\n",
    "You created a RNN Cell in the `get_init_cell()` function.  Time to use the cell to create a RNN.\n",
    "- Build the RNN using the [`tf.nn.dynamic_rnn()`](https://www.tensorflow.org/api_docs/python/tf/nn/dynamic_rnn)\n",
    " - Apply the name \"final_state\" to the final state using [`tf.identity()`](https://www.tensorflow.org/api_docs/python/tf/identity)\n",
    "\n",
    "Return the outputs and final_state state in the following tuple `(Outputs, FinalState)` "
   ]
  },
  {
   "cell_type": "code",
   "execution_count": 83,
   "metadata": {},
   "outputs": [
    {
     "name": "stdout",
     "output_type": "stream",
     "text": [
      "Tests Passed\n"
     ]
    }
   ],
   "source": [
    "def build_rnn(cell, inputs):\n",
    "    \"\"\"\n",
    "    Create a RNN using a RNN Cell\n",
    "    :param cell: RNN Cell\n",
    "    :param inputs: Input text data\n",
    "    :return: Tuple (Outputs, Final State)\n",
    "    \"\"\"\n",
    "    \n",
    "    outputs, final_state = tf.nn.dynamic_rnn(cell, inputs, dtype=tf.float32)\n",
    "    final_state = tf.identity(final_state, name='final_state')\n",
    "    \n",
    "    return (outputs, final_state)\n",
    "\n",
    "\n",
    "\"\"\"\n",
    "DON'T MODIFY ANYTHING IN THIS CELL THAT IS BELOW THIS LINE\n",
    "\"\"\"\n",
    "tests.test_build_rnn(build_rnn)"
   ]
  },
  {
   "cell_type": "markdown",
   "metadata": {},
   "source": [
    "### Build the Neural Network\n",
    "Apply the functions you implemented above to:\n",
    "- Apply embedding to `input_data` using your `get_embed(input_data, vocab_size, embed_dim)` function.\n",
    "- Build RNN using `cell` and your `build_rnn(cell, inputs)` function.\n",
    "- Apply a fully connected layer with a linear activation and `vocab_size` as the number of outputs.\n",
    "\n",
    "Return the logits and final state in the following tuple (Logits, FinalState) "
   ]
  },
  {
   "cell_type": "code",
   "execution_count": 84,
   "metadata": {},
   "outputs": [
    {
     "name": "stdout",
     "output_type": "stream",
     "text": [
      "Tests Passed\n"
     ]
    }
   ],
   "source": [
    "def build_nn(cell, rnn_size, input_data, vocab_size, embed_dim):\n",
    "    \"\"\"\n",
    "    Build part of the neural network\n",
    "    :param cell: RNN cell\n",
    "    :param rnn_size: Size of rnns\n",
    "    :param input_data: Input data\n",
    "    :param vocab_size: Vocabulary size\n",
    "    :param embed_dim: Number of embedding dimensions\n",
    "    :return: Tuple (Logits, FinalState)\n",
    "    \"\"\"\n",
    "    \n",
    "    output_embedding = get_embed(input_data, vocab_size, embed_dim)\n",
    "    (outputs, final_state) = build_rnn(cell, output_embedding)\n",
    "    \n",
    "    logits = tf.contrib.layers.fully_connected(\n",
    "        outputs, \n",
    "        vocab_size,\n",
    "        # weights_initializer=tf.truncated_normal_initializer(stddev=0.1),\n",
    "        # biases_initializer=tf.zeros_initializer(),\n",
    "        activation_fn=None # according to documenation activation=None sets it to linear\n",
    "    )\n",
    "\n",
    "    return (logits, final_state)\n",
    "\n",
    "\"\"\"\n",
    "DON'T MODIFY ANYTHING IN THIS CELL THAT IS BELOW THIS LINE\n",
    "\"\"\"\n",
    "tests.test_build_nn(build_nn)"
   ]
  },
  {
   "cell_type": "markdown",
   "metadata": {},
   "source": [
    "### Batches\n",
    "Implement `get_batches` to create batches of input and targets using `int_text`.  The batches should be a Numpy array with the shape `(number of batches, 2, batch size, sequence length)`. Each batch contains two elements:\n",
    "- The first element is a single batch of **input** with the shape `[batch size, sequence length]`\n",
    "- The second element is a single batch of **targets** with the shape `[batch size, sequence length]`\n",
    "\n",
    "If you can't fill the last batch with enough data, drop the last batch.\n",
    "\n",
    "For example, `get_batches([1, 2, 3, 4, 5, 6, 7, 8, 9, 10, 11, 12, 13, 14, 15, 16, 17, 18, 19, 20], 3, 2)` would return a Numpy array of the following:\n",
    "```\n",
    "[\n",
    "  # First Batch\n",
    "  [\n",
    "    # Batch of Input\n",
    "    [[ 1  2], [ 7  8], [13 14]]\n",
    "    # Batch of targets\n",
    "    [[ 2  3], [ 8  9], [14 15]]\n",
    "  ]\n",
    "\n",
    "  # Second Batch\n",
    "  [\n",
    "    # Batch of Input\n",
    "    [[ 3  4], [ 9 10], [15 16]]\n",
    "    # Batch of targets\n",
    "    [[ 4  5], [10 11], [16 17]]\n",
    "  ]\n",
    "\n",
    "  # Third Batch\n",
    "  [\n",
    "    # Batch of Input\n",
    "    [[ 5  6], [11 12], [17 18]]\n",
    "    # Batch of targets\n",
    "    [[ 6  7], [12 13], [18  1]]\n",
    "  ]\n",
    "]\n",
    "```\n",
    "\n",
    "Notice that the last target value in the last batch is the first input value of the first batch. In this case, `1`. This is a common technique used when creating sequence batches, although it is rather unintuitive."
   ]
  },
  {
   "cell_type": "code",
   "execution_count": 85,
   "metadata": {},
   "outputs": [
    {
     "name": "stdout",
     "output_type": "stream",
     "text": [
      "Tests Passed\n"
     ]
    }
   ],
   "source": [
    "def get_batches(int_text, batch_size, seq_length):\n",
    "    \"\"\"\n",
    "    Return batches of input and target\n",
    "    :param int_text: Text with the words replaced by their ids\n",
    "    :param batch_size: The size of batch\n",
    "    :param seq_length: The length of sequence\n",
    "    :return: Batches as a Numpy array\n",
    "    \"\"\"\n",
    "    \n",
    "    n_batches = len(int_text) // (batch_size  * seq_length)\n",
    "    np_text = np.array(int_text[:n_batches * (batch_size  * seq_length)])\n",
    "    np_text_rsh = np_text.reshape(-1, seq_length)\n",
    "\n",
    "    np_text_trg = np.roll(np_text, -1).reshape(-1, seq_length)\n",
    "    output = np.zeros(shape=(n_batches, 2, batch_size, seq_length), dtype=np.int32)\n",
    "\n",
    "    for word in range(0, np_text_rsh.shape[0]):\n",
    "        jj = word % n_batches\n",
    "        ii = word // n_batches\n",
    "        output[jj,0,ii,:] = np_text_rsh[word,:]\n",
    "        output[jj,1,ii,:] = np_text_trg[word,:]\n",
    "    return output\n",
    "\n",
    "\"\"\"\n",
    "DON'T MODIFY ANYTHING IN THIS CELL THAT IS BELOW THIS LINE\n",
    "\"\"\"\n",
    "tests.test_get_batches(get_batches)"
   ]
  },
  {
   "cell_type": "markdown",
   "metadata": {},
   "source": [
    "## Neural Network Training\n",
    "### Hyperparameters\n",
    "Tune the following parameters:\n",
    "\n",
    "- Set `num_epochs` to the number of epochs.\n",
    "- Set `batch_size` to the batch size.\n",
    "- Set `rnn_size` to the size of the RNNs.\n",
    "- Set `embed_dim` to the size of the embedding.\n",
    "- Set `seq_length` to the length of sequence.\n",
    "- Set `learning_rate` to the learning rate.\n",
    "- Set `show_every_n_batches` to the number of batches the neural network should print progress."
   ]
  },
  {
   "cell_type": "code",
   "execution_count": 19,
   "metadata": {},
   "outputs": [],
   "source": [
    "# Number of Epochs\n",
    "num_epochs = 150\n",
    "# Batch Size\n",
    "batch_size = 128\n",
    "# RNN Size\n",
    "rnn_size = 512\n",
    "# Embedding Dimension Size\n",
    "embed_dim = 256\n",
    "# Sequence Length\n",
    "seq_length = 25\n",
    "# Learning Rate\n",
    "learning_rate = 0.001\n",
    "# Show stats for every n number of batches\n",
    "show_every_n_batches = 10\n",
    "\n",
    "\"\"\"\n",
    "DON'T MODIFY ANYTHING IN THIS CELL THAT IS BELOW THIS LINE\n",
    "\"\"\"\n",
    "save_dir = './save'"
   ]
  },
  {
   "cell_type": "markdown",
   "metadata": {},
   "source": [
    "### Build the Graph\n",
    "Build the graph using the neural network you implemented."
   ]
  },
  {
   "cell_type": "code",
   "execution_count": 20,
   "metadata": {},
   "outputs": [],
   "source": [
    "\"\"\"\n",
    "DON'T MODIFY ANYTHING IN THIS CELL\n",
    "\"\"\"\n",
    "from tensorflow.contrib import seq2seq\n",
    "\n",
    "train_graph = tf.Graph()\n",
    "with train_graph.as_default():\n",
    "    vocab_size = len(int_to_vocab)\n",
    "    input_text, targets, lr = get_inputs()\n",
    "    input_data_shape = tf.shape(input_text)\n",
    "    cell, initial_state = get_init_cell(input_data_shape[0], rnn_size)\n",
    "    logits, final_state = build_nn(cell, rnn_size, input_text, vocab_size, embed_dim)\n",
    "\n",
    "    # Probabilities for generating words\n",
    "    probs = tf.nn.softmax(logits, name='probs')\n",
    "\n",
    "    # Loss function\n",
    "    cost = seq2seq.sequence_loss(\n",
    "        logits,\n",
    "        targets,\n",
    "        tf.ones([input_data_shape[0], input_data_shape[1]]))\n",
    "\n",
    "    # Optimizer\n",
    "    optimizer = tf.train.AdamOptimizer(lr)\n",
    "\n",
    "    # Gradient Clipping\n",
    "    gradients = optimizer.compute_gradients(cost)\n",
    "    capped_gradients = [(tf.clip_by_value(grad, -1., 1.), var) for grad, var in gradients if grad is not None]\n",
    "    train_op = optimizer.apply_gradients(capped_gradients)"
   ]
  },
  {
   "cell_type": "markdown",
   "metadata": {},
   "source": [
    "## Train\n",
    "Train the neural network on the preprocessed data.  If you have a hard time getting a good loss, check the [forums](https://discussions.udacity.com/) to see if anyone is having the same problem."
   ]
  },
  {
   "cell_type": "code",
   "execution_count": 21,
   "metadata": {},
   "outputs": [
    {
     "name": "stdout",
     "output_type": "stream",
     "text": [
      "Epoch   0 Batch    0/21   train_loss = 8.818\n",
      "Epoch   0 Batch   10/21   train_loss = 6.375\n",
      "Epoch   0 Batch   20/21   train_loss = 6.533\n",
      "Epoch   1 Batch    9/21   train_loss = 6.079\n",
      "Epoch   1 Batch   19/21   train_loss = 6.031\n",
      "Epoch   2 Batch    8/21   train_loss = 5.784\n",
      "Epoch   2 Batch   18/21   train_loss = 5.665\n",
      "Epoch   3 Batch    7/21   train_loss = 5.563\n",
      "Epoch   3 Batch   17/21   train_loss = 5.487\n",
      "Epoch   4 Batch    6/21   train_loss = 5.439\n",
      "Epoch   4 Batch   16/21   train_loss = 5.400\n",
      "Epoch   5 Batch    5/21   train_loss = 5.173\n",
      "Epoch   5 Batch   15/21   train_loss = 5.172\n",
      "Epoch   6 Batch    4/21   train_loss = 5.263\n",
      "Epoch   6 Batch   14/21   train_loss = 5.003\n",
      "Epoch   7 Batch    3/21   train_loss = 4.971\n",
      "Epoch   7 Batch   13/21   train_loss = 4.986\n",
      "Epoch   8 Batch    2/21   train_loss = 4.858\n",
      "Epoch   8 Batch   12/21   train_loss = 4.870\n",
      "Epoch   9 Batch    1/21   train_loss = 4.783\n",
      "Epoch   9 Batch   11/21   train_loss = 4.719\n",
      "Epoch  10 Batch    0/21   train_loss = 4.679\n",
      "Epoch  10 Batch   10/21   train_loss = 4.577\n",
      "Epoch  10 Batch   20/21   train_loss = 4.622\n",
      "Epoch  11 Batch    9/21   train_loss = 4.595\n",
      "Epoch  11 Batch   19/21   train_loss = 4.486\n",
      "Epoch  12 Batch    8/21   train_loss = 4.424\n",
      "Epoch  12 Batch   18/21   train_loss = 4.407\n",
      "Epoch  13 Batch    7/21   train_loss = 4.330\n",
      "Epoch  13 Batch   17/21   train_loss = 4.311\n",
      "Epoch  14 Batch    6/21   train_loss = 4.286\n",
      "Epoch  14 Batch   16/21   train_loss = 4.295\n",
      "Epoch  15 Batch    5/21   train_loss = 4.160\n",
      "Epoch  15 Batch   15/21   train_loss = 4.179\n",
      "Epoch  16 Batch    4/21   train_loss = 4.232\n",
      "Epoch  16 Batch   14/21   train_loss = 4.034\n",
      "Epoch  17 Batch    3/21   train_loss = 4.067\n",
      "Epoch  17 Batch   13/21   train_loss = 4.075\n",
      "Epoch  18 Batch    2/21   train_loss = 4.019\n",
      "Epoch  18 Batch   12/21   train_loss = 4.017\n",
      "Epoch  19 Batch    1/21   train_loss = 3.949\n",
      "Epoch  19 Batch   11/21   train_loss = 3.900\n",
      "Epoch  20 Batch    0/21   train_loss = 3.907\n",
      "Epoch  20 Batch   10/21   train_loss = 3.809\n",
      "Epoch  20 Batch   20/21   train_loss = 3.844\n",
      "Epoch  21 Batch    9/21   train_loss = 3.821\n",
      "Epoch  21 Batch   19/21   train_loss = 3.728\n",
      "Epoch  22 Batch    8/21   train_loss = 3.708\n",
      "Epoch  22 Batch   18/21   train_loss = 3.704\n",
      "Epoch  23 Batch    7/21   train_loss = 3.654\n",
      "Epoch  23 Batch   17/21   train_loss = 3.644\n",
      "Epoch  24 Batch    6/21   train_loss = 3.599\n",
      "Epoch  24 Batch   16/21   train_loss = 3.602\n",
      "Epoch  25 Batch    5/21   train_loss = 3.540\n",
      "Epoch  25 Batch   15/21   train_loss = 3.536\n",
      "Epoch  26 Batch    4/21   train_loss = 3.554\n",
      "Epoch  26 Batch   14/21   train_loss = 3.397\n",
      "Epoch  27 Batch    3/21   train_loss = 3.440\n",
      "Epoch  27 Batch   13/21   train_loss = 3.449\n",
      "Epoch  28 Batch    2/21   train_loss = 3.432\n",
      "Epoch  28 Batch   12/21   train_loss = 3.383\n",
      "Epoch  29 Batch    1/21   train_loss = 3.339\n",
      "Epoch  29 Batch   11/21   train_loss = 3.309\n",
      "Epoch  30 Batch    0/21   train_loss = 3.330\n",
      "Epoch  30 Batch   10/21   train_loss = 3.221\n",
      "Epoch  30 Batch   20/21   train_loss = 3.310\n",
      "Epoch  31 Batch    9/21   train_loss = 3.251\n",
      "Epoch  31 Batch   19/21   train_loss = 3.156\n",
      "Epoch  32 Batch    8/21   train_loss = 3.166\n",
      "Epoch  32 Batch   18/21   train_loss = 3.154\n",
      "Epoch  33 Batch    7/21   train_loss = 3.105\n",
      "Epoch  33 Batch   17/21   train_loss = 3.102\n",
      "Epoch  34 Batch    6/21   train_loss = 3.055\n",
      "Epoch  34 Batch   16/21   train_loss = 3.052\n",
      "Epoch  35 Batch    5/21   train_loss = 3.023\n",
      "Epoch  35 Batch   15/21   train_loss = 3.013\n",
      "Epoch  36 Batch    4/21   train_loss = 3.008\n",
      "Epoch  36 Batch   14/21   train_loss = 2.872\n",
      "Epoch  37 Batch    3/21   train_loss = 2.912\n",
      "Epoch  37 Batch   13/21   train_loss = 2.911\n",
      "Epoch  38 Batch    2/21   train_loss = 2.936\n",
      "Epoch  38 Batch   12/21   train_loss = 2.848\n",
      "Epoch  39 Batch    1/21   train_loss = 2.795\n",
      "Epoch  39 Batch   11/21   train_loss = 2.786\n",
      "Epoch  40 Batch    0/21   train_loss = 2.819\n",
      "Epoch  40 Batch   10/21   train_loss = 2.738\n",
      "Epoch  40 Batch   20/21   train_loss = 2.741\n",
      "Epoch  41 Batch    9/21   train_loss = 2.711\n",
      "Epoch  41 Batch   19/21   train_loss = 2.656\n",
      "Epoch  42 Batch    8/21   train_loss = 2.699\n",
      "Epoch  42 Batch   18/21   train_loss = 2.678\n",
      "Epoch  43 Batch    7/21   train_loss = 2.641\n",
      "Epoch  43 Batch   17/21   train_loss = 2.630\n",
      "Epoch  44 Batch    6/21   train_loss = 2.599\n",
      "Epoch  44 Batch   16/21   train_loss = 2.585\n",
      "Epoch  45 Batch    5/21   train_loss = 2.599\n",
      "Epoch  45 Batch   15/21   train_loss = 2.581\n",
      "Epoch  46 Batch    4/21   train_loss = 2.561\n",
      "Epoch  46 Batch   14/21   train_loss = 2.467\n",
      "Epoch  47 Batch    3/21   train_loss = 2.498\n",
      "Epoch  47 Batch   13/21   train_loss = 2.529\n",
      "Epoch  48 Batch    2/21   train_loss = 2.557\n",
      "Epoch  48 Batch   12/21   train_loss = 2.436\n",
      "Epoch  49 Batch    1/21   train_loss = 2.394\n",
      "Epoch  49 Batch   11/21   train_loss = 2.424\n",
      "Epoch  50 Batch    0/21   train_loss = 2.421\n",
      "Epoch  50 Batch   10/21   train_loss = 2.367\n",
      "Epoch  50 Batch   20/21   train_loss = 2.368\n",
      "Epoch  51 Batch    9/21   train_loss = 2.335\n",
      "Epoch  51 Batch   19/21   train_loss = 2.279\n",
      "Epoch  52 Batch    8/21   train_loss = 2.341\n",
      "Epoch  52 Batch   18/21   train_loss = 2.335\n",
      "Epoch  53 Batch    7/21   train_loss = 2.294\n",
      "Epoch  53 Batch   17/21   train_loss = 2.275\n",
      "Epoch  54 Batch    6/21   train_loss = 2.239\n",
      "Epoch  54 Batch   16/21   train_loss = 2.224\n",
      "Epoch  55 Batch    5/21   train_loss = 2.241\n",
      "Epoch  55 Batch   15/21   train_loss = 2.225\n",
      "Epoch  56 Batch    4/21   train_loss = 2.173\n",
      "Epoch  56 Batch   14/21   train_loss = 2.101\n",
      "Epoch  57 Batch    3/21   train_loss = 2.130\n",
      "Epoch  57 Batch   13/21   train_loss = 2.168\n",
      "Epoch  58 Batch    2/21   train_loss = 2.230\n",
      "Epoch  58 Batch   12/21   train_loss = 2.096\n",
      "Epoch  59 Batch    1/21   train_loss = 2.051\n",
      "Epoch  59 Batch   11/21   train_loss = 2.084\n",
      "Epoch  60 Batch    0/21   train_loss = 2.105\n",
      "Epoch  60 Batch   10/21   train_loss = 2.042\n",
      "Epoch  60 Batch   20/21   train_loss = 2.029\n",
      "Epoch  61 Batch    9/21   train_loss = 1.994\n",
      "Epoch  61 Batch   19/21   train_loss = 1.950\n",
      "Epoch  62 Batch    8/21   train_loss = 2.037\n",
      "Epoch  62 Batch   18/21   train_loss = 2.006\n",
      "Epoch  63 Batch    7/21   train_loss = 1.964\n",
      "Epoch  63 Batch   17/21   train_loss = 1.957\n",
      "Epoch  64 Batch    6/21   train_loss = 1.922\n",
      "Epoch  64 Batch   16/21   train_loss = 1.899\n",
      "Epoch  65 Batch    5/21   train_loss = 1.948\n",
      "Epoch  65 Batch   15/21   train_loss = 1.921\n",
      "Epoch  66 Batch    4/21   train_loss = 1.882\n",
      "Epoch  66 Batch   14/21   train_loss = 1.830\n",
      "Epoch  67 Batch    3/21   train_loss = 1.831\n",
      "Epoch  67 Batch   13/21   train_loss = 1.862\n",
      "Epoch  68 Batch    2/21   train_loss = 1.906\n",
      "Epoch  68 Batch   12/21   train_loss = 1.765\n",
      "Epoch  69 Batch    1/21   train_loss = 1.726\n",
      "Epoch  69 Batch   11/21   train_loss = 1.766\n",
      "Epoch  70 Batch    0/21   train_loss = 1.774\n",
      "Epoch  70 Batch   10/21   train_loss = 1.730\n",
      "Epoch  70 Batch   20/21   train_loss = 1.727\n",
      "Epoch  71 Batch    9/21   train_loss = 1.683\n",
      "Epoch  71 Batch   19/21   train_loss = 1.652\n",
      "Epoch  72 Batch    8/21   train_loss = 1.728\n",
      "Epoch  72 Batch   18/21   train_loss = 1.690\n",
      "Epoch  73 Batch    7/21   train_loss = 1.668\n",
      "Epoch  73 Batch   17/21   train_loss = 1.645\n",
      "Epoch  74 Batch    6/21   train_loss = 1.630\n",
      "Epoch  74 Batch   16/21   train_loss = 1.595\n",
      "Epoch  75 Batch    5/21   train_loss = 1.657\n",
      "Epoch  75 Batch   15/21   train_loss = 1.637\n",
      "Epoch  76 Batch    4/21   train_loss = 1.570\n",
      "Epoch  76 Batch   14/21   train_loss = 1.550\n",
      "Epoch  77 Batch    3/21   train_loss = 1.546\n",
      "Epoch  77 Batch   13/21   train_loss = 1.586\n",
      "Epoch  78 Batch    2/21   train_loss = 1.645\n",
      "Epoch  78 Batch   12/21   train_loss = 1.529\n",
      "Epoch  79 Batch    1/21   train_loss = 1.488\n",
      "Epoch  79 Batch   11/21   train_loss = 1.534\n",
      "Epoch  80 Batch    0/21   train_loss = 1.545\n",
      "Epoch  80 Batch   10/21   train_loss = 1.495\n",
      "Epoch  80 Batch   20/21   train_loss = 1.476\n",
      "Epoch  81 Batch    9/21   train_loss = 1.425\n",
      "Epoch  81 Batch   19/21   train_loss = 1.418\n",
      "Epoch  82 Batch    8/21   train_loss = 1.506\n",
      "Epoch  82 Batch   18/21   train_loss = 1.560\n",
      "Epoch  83 Batch    7/21   train_loss = 1.542\n",
      "Epoch  83 Batch   17/21   train_loss = 1.527\n",
      "Epoch  84 Batch    6/21   train_loss = 1.498\n",
      "Epoch  84 Batch   16/21   train_loss = 1.441\n",
      "Epoch  85 Batch    5/21   train_loss = 1.485\n",
      "Epoch  85 Batch   15/21   train_loss = 1.458\n",
      "Epoch  86 Batch    4/21   train_loss = 1.374\n",
      "Epoch  86 Batch   14/21   train_loss = 1.358\n"
     ]
    },
    {
     "name": "stdout",
     "output_type": "stream",
     "text": [
      "Epoch  87 Batch    3/21   train_loss = 1.361\n",
      "Epoch  87 Batch   13/21   train_loss = 1.378\n",
      "Epoch  88 Batch    2/21   train_loss = 1.428\n",
      "Epoch  88 Batch   12/21   train_loss = 1.290\n",
      "Epoch  89 Batch    1/21   train_loss = 1.259\n",
      "Epoch  89 Batch   11/21   train_loss = 1.309\n",
      "Epoch  90 Batch    0/21   train_loss = 1.321\n",
      "Epoch  90 Batch   10/21   train_loss = 1.286\n",
      "Epoch  90 Batch   20/21   train_loss = 1.283\n",
      "Epoch  91 Batch    9/21   train_loss = 1.252\n",
      "Epoch  91 Batch   19/21   train_loss = 1.237\n",
      "Epoch  92 Batch    8/21   train_loss = 1.271\n",
      "Epoch  92 Batch   18/21   train_loss = 1.275\n",
      "Epoch  93 Batch    7/21   train_loss = 1.236\n",
      "Epoch  93 Batch   17/21   train_loss = 1.219\n",
      "Epoch  94 Batch    6/21   train_loss = 1.208\n",
      "Epoch  94 Batch   16/21   train_loss = 1.170\n",
      "Epoch  95 Batch    5/21   train_loss = 1.225\n",
      "Epoch  95 Batch   15/21   train_loss = 1.192\n",
      "Epoch  96 Batch    4/21   train_loss = 1.124\n",
      "Epoch  96 Batch   14/21   train_loss = 1.109\n",
      "Epoch  97 Batch    3/21   train_loss = 1.105\n",
      "Epoch  97 Batch   13/21   train_loss = 1.133\n",
      "Epoch  98 Batch    2/21   train_loss = 1.183\n",
      "Epoch  98 Batch   12/21   train_loss = 1.066\n",
      "Epoch  99 Batch    1/21   train_loss = 1.051\n",
      "Epoch  99 Batch   11/21   train_loss = 1.086\n",
      "Epoch 100 Batch    0/21   train_loss = 1.099\n",
      "Epoch 100 Batch   10/21   train_loss = 1.045\n",
      "Epoch 100 Batch   20/21   train_loss = 1.047\n",
      "Epoch 101 Batch    9/21   train_loss = 1.015\n",
      "Epoch 101 Batch   19/21   train_loss = 1.010\n",
      "Epoch 102 Batch    8/21   train_loss = 1.043\n",
      "Epoch 102 Batch   18/21   train_loss = 1.065\n",
      "Epoch 103 Batch    7/21   train_loss = 1.041\n",
      "Epoch 103 Batch   17/21   train_loss = 1.024\n",
      "Epoch 104 Batch    6/21   train_loss = 1.009\n",
      "Epoch 104 Batch   16/21   train_loss = 0.978\n",
      "Epoch 105 Batch    5/21   train_loss = 1.006\n",
      "Epoch 105 Batch   15/21   train_loss = 0.972\n",
      "Epoch 106 Batch    4/21   train_loss = 0.922\n",
      "Epoch 106 Batch   14/21   train_loss = 0.917\n",
      "Epoch 107 Batch    3/21   train_loss = 0.936\n",
      "Epoch 107 Batch   13/21   train_loss = 0.966\n",
      "Epoch 108 Batch    2/21   train_loss = 1.021\n",
      "Epoch 108 Batch   12/21   train_loss = 0.920\n",
      "Epoch 109 Batch    1/21   train_loss = 0.895\n",
      "Epoch 109 Batch   11/21   train_loss = 0.930\n",
      "Epoch 110 Batch    0/21   train_loss = 0.932\n",
      "Epoch 110 Batch   10/21   train_loss = 0.877\n",
      "Epoch 110 Batch   20/21   train_loss = 0.871\n",
      "Epoch 111 Batch    9/21   train_loss = 0.864\n",
      "Epoch 111 Batch   19/21   train_loss = 0.844\n",
      "Epoch 112 Batch    8/21   train_loss = 0.857\n",
      "Epoch 112 Batch   18/21   train_loss = 0.874\n",
      "Epoch 113 Batch    7/21   train_loss = 0.861\n",
      "Epoch 113 Batch   17/21   train_loss = 0.839\n",
      "Epoch 114 Batch    6/21   train_loss = 0.826\n",
      "Epoch 114 Batch   16/21   train_loss = 0.810\n",
      "Epoch 115 Batch    5/21   train_loss = 0.822\n",
      "Epoch 115 Batch   15/21   train_loss = 0.810\n",
      "Epoch 116 Batch    4/21   train_loss = 0.758\n",
      "Epoch 116 Batch   14/21   train_loss = 0.742\n",
      "Epoch 117 Batch    3/21   train_loss = 0.770\n",
      "Epoch 117 Batch   13/21   train_loss = 0.776\n",
      "Epoch 118 Batch    2/21   train_loss = 0.812\n",
      "Epoch 118 Batch   12/21   train_loss = 0.740\n",
      "Epoch 119 Batch    1/21   train_loss = 0.722\n",
      "Epoch 119 Batch   11/21   train_loss = 0.757\n",
      "Epoch 120 Batch    0/21   train_loss = 0.770\n",
      "Epoch 120 Batch   10/21   train_loss = 0.717\n",
      "Epoch 120 Batch   20/21   train_loss = 0.701\n",
      "Epoch 121 Batch    9/21   train_loss = 0.700\n",
      "Epoch 121 Batch   19/21   train_loss = 0.687\n",
      "Epoch 122 Batch    8/21   train_loss = 0.699\n",
      "Epoch 122 Batch   18/21   train_loss = 0.713\n",
      "Epoch 123 Batch    7/21   train_loss = 0.702\n",
      "Epoch 123 Batch   17/21   train_loss = 0.681\n",
      "Epoch 124 Batch    6/21   train_loss = 0.681\n",
      "Epoch 124 Batch   16/21   train_loss = 0.659\n",
      "Epoch 125 Batch    5/21   train_loss = 0.672\n",
      "Epoch 125 Batch   15/21   train_loss = 0.665\n",
      "Epoch 126 Batch    4/21   train_loss = 0.625\n",
      "Epoch 126 Batch   14/21   train_loss = 0.625\n",
      "Epoch 127 Batch    3/21   train_loss = 0.662\n",
      "Epoch 127 Batch   13/21   train_loss = 0.652\n",
      "Epoch 128 Batch    2/21   train_loss = 0.700\n",
      "Epoch 128 Batch   12/21   train_loss = 0.607\n",
      "Epoch 129 Batch    1/21   train_loss = 0.611\n",
      "Epoch 129 Batch   11/21   train_loss = 0.680\n",
      "Epoch 130 Batch    0/21   train_loss = 0.650\n",
      "Epoch 130 Batch   10/21   train_loss = 0.592\n",
      "Epoch 130 Batch   20/21   train_loss = 0.589\n",
      "Epoch 131 Batch    9/21   train_loss = 0.576\n",
      "Epoch 131 Batch   19/21   train_loss = 0.552\n",
      "Epoch 132 Batch    8/21   train_loss = 0.570\n",
      "Epoch 132 Batch   18/21   train_loss = 0.579\n",
      "Epoch 133 Batch    7/21   train_loss = 0.580\n",
      "Epoch 133 Batch   17/21   train_loss = 0.559\n",
      "Epoch 134 Batch    6/21   train_loss = 0.540\n",
      "Epoch 134 Batch   16/21   train_loss = 0.535\n",
      "Epoch 135 Batch    5/21   train_loss = 0.542\n",
      "Epoch 135 Batch   15/21   train_loss = 0.538\n",
      "Epoch 136 Batch    4/21   train_loss = 0.507\n",
      "Epoch 136 Batch   14/21   train_loss = 0.495\n",
      "Epoch 137 Batch    3/21   train_loss = 0.531\n",
      "Epoch 137 Batch   13/21   train_loss = 0.512\n",
      "Epoch 138 Batch    2/21   train_loss = 0.543\n",
      "Epoch 138 Batch   12/21   train_loss = 0.495\n",
      "Epoch 139 Batch    1/21   train_loss = 0.485\n",
      "Epoch 139 Batch   11/21   train_loss = 0.495\n",
      "Epoch 140 Batch    0/21   train_loss = 0.509\n",
      "Epoch 140 Batch   10/21   train_loss = 0.487\n",
      "Epoch 140 Batch   20/21   train_loss = 0.461\n",
      "Epoch 141 Batch    9/21   train_loss = 0.476\n",
      "Epoch 141 Batch   19/21   train_loss = 0.464\n",
      "Epoch 142 Batch    8/21   train_loss = 0.492\n",
      "Epoch 142 Batch   18/21   train_loss = 0.509\n",
      "Epoch 143 Batch    7/21   train_loss = 0.509\n",
      "Epoch 143 Batch   17/21   train_loss = 0.487\n",
      "Epoch 144 Batch    6/21   train_loss = 0.473\n",
      "Epoch 144 Batch   16/21   train_loss = 0.464\n",
      "Epoch 145 Batch    5/21   train_loss = 0.467\n",
      "Epoch 145 Batch   15/21   train_loss = 0.463\n",
      "Epoch 146 Batch    4/21   train_loss = 0.435\n",
      "Epoch 146 Batch   14/21   train_loss = 0.441\n",
      "Epoch 147 Batch    3/21   train_loss = 0.470\n",
      "Epoch 147 Batch   13/21   train_loss = 0.462\n",
      "Epoch 148 Batch    2/21   train_loss = 0.500\n",
      "Epoch 148 Batch   12/21   train_loss = 0.432\n",
      "Epoch 149 Batch    1/21   train_loss = 0.425\n",
      "Epoch 149 Batch   11/21   train_loss = 0.444\n",
      "Model Trained and Saved\n"
     ]
    }
   ],
   "source": [
    "\"\"\"\n",
    "DON'T MODIFY ANYTHING IN THIS CELL\n",
    "\"\"\"\n",
    "batches = get_batches(int_text, batch_size, seq_length)\n",
    "\n",
    "with tf.Session(graph=train_graph) as sess:\n",
    "    sess.run(tf.global_variables_initializer())\n",
    "\n",
    "    for epoch_i in range(num_epochs):\n",
    "        state = sess.run(initial_state, {input_text: batches[0][0]})\n",
    "\n",
    "        for batch_i, (x, y) in enumerate(batches):\n",
    "            feed = {\n",
    "                input_text: x,\n",
    "                targets: y,\n",
    "                initial_state: state,\n",
    "                lr: learning_rate}\n",
    "            train_loss, state, _ = sess.run([cost, final_state, train_op], feed)\n",
    "\n",
    "            # Show every <show_every_n_batches> batches\n",
    "            if (epoch_i * len(batches) + batch_i) % show_every_n_batches == 0:\n",
    "                print('Epoch {:>3} Batch {:>4}/{}   train_loss = {:.3f}'.format(\n",
    "                    epoch_i,\n",
    "                    batch_i,\n",
    "                    len(batches),\n",
    "                    train_loss))\n",
    "\n",
    "    # Save Model\n",
    "    saver = tf.train.Saver()\n",
    "    saver.save(sess, save_dir)\n",
    "    print('Model Trained and Saved')"
   ]
  },
  {
   "cell_type": "markdown",
   "metadata": {},
   "source": [
    "## Save Parameters\n",
    "Save `seq_length` and `save_dir` for generating a new TV script."
   ]
  },
  {
   "cell_type": "code",
   "execution_count": 22,
   "metadata": {},
   "outputs": [],
   "source": [
    "\"\"\"\n",
    "DON'T MODIFY ANYTHING IN THIS CELL\n",
    "\"\"\"\n",
    "# Save parameters for checkpoint\n",
    "helper.save_params((seq_length, save_dir))"
   ]
  },
  {
   "cell_type": "markdown",
   "metadata": {},
   "source": [
    "# Checkpoint"
   ]
  },
  {
   "cell_type": "code",
   "execution_count": 86,
   "metadata": {},
   "outputs": [],
   "source": [
    "\"\"\"\n",
    "DON'T MODIFY ANYTHING IN THIS CELL\n",
    "\"\"\"\n",
    "import tensorflow as tf\n",
    "import numpy as np\n",
    "import helper\n",
    "import problem_unittests as tests\n",
    "\n",
    "_, vocab_to_int, int_to_vocab, token_dict = helper.load_preprocess()\n",
    "seq_length, load_dir = helper.load_params()"
   ]
  },
  {
   "cell_type": "markdown",
   "metadata": {},
   "source": [
    "## Implement Generate Functions\n",
    "### Get Tensors\n",
    "Get tensors from `loaded_graph` using the function [`get_tensor_by_name()`](https://www.tensorflow.org/api_docs/python/tf/Graph#get_tensor_by_name).  Get the tensors using the following names:\n",
    "- \"input:0\"\n",
    "- \"initial_state:0\"\n",
    "- \"final_state:0\"\n",
    "- \"probs:0\"\n",
    "\n",
    "Return the tensors in the following tuple `(InputTensor, InitialStateTensor, FinalStateTensor, ProbsTensor)` "
   ]
  },
  {
   "cell_type": "code",
   "execution_count": 87,
   "metadata": {},
   "outputs": [
    {
     "name": "stdout",
     "output_type": "stream",
     "text": [
      "Tests Passed\n"
     ]
    }
   ],
   "source": [
    "def get_tensors(loaded_graph):\n",
    "    \"\"\"\n",
    "    Get input, initial state, final state, and probabilities tensor from <loaded_graph>\n",
    "    :param loaded_graph: TensorFlow graph loaded from file\n",
    "    :return: Tuple (InputTensor, InitialStateTensor, FinalStateTensor, ProbsTensor)\n",
    "    \"\"\"\n",
    "    \n",
    "    input_tensor = loaded_graph.get_tensor_by_name('input:0')\n",
    "    initial_state_tensor = loaded_graph.get_tensor_by_name('initial_state:0')\n",
    "    final_state_tensor = loaded_graph.get_tensor_by_name('final_state:0')\n",
    "    probs_tensor = loaded_graph.get_tensor_by_name('probs:0')\n",
    "    \n",
    "    return (input_tensor, initial_state_tensor, final_state_tensor, probs_tensor)\n",
    "\n",
    "\n",
    "\"\"\"\n",
    "DON'T MODIFY ANYTHING IN THIS CELL THAT IS BELOW THIS LINE\n",
    "\"\"\"\n",
    "tests.test_get_tensors(get_tensors)"
   ]
  },
  {
   "cell_type": "markdown",
   "metadata": {},
   "source": [
    "### Choose Word\n",
    "Implement the `pick_word()` function to select the next word using `probabilities`."
   ]
  },
  {
   "cell_type": "code",
   "execution_count": 108,
   "metadata": {},
   "outputs": [
    {
     "data": {
      "text/plain": [
       "0.2857142857142857"
      ]
     },
     "execution_count": 108,
     "metadata": {},
     "output_type": "execute_result"
    }
   ],
   "source": [
    "probabilities_test = [1, 10, 5, 4, 8]\n",
    "cumsum_probabilities = np.sort(probabilities_test) / np.sum(probabilities_test)\n",
    "probability = np.random.choice(prop_probabilities)\n",
    "probability"
   ]
  },
  {
   "cell_type": "code",
   "execution_count": 107,
   "metadata": {},
   "outputs": [
    {
     "data": {
      "text/plain": [
       "1"
      ]
     },
     "execution_count": 107,
     "metadata": {},
     "output_type": "execute_result"
    }
   ],
   "source": [
    "probabilities_test = [1, 10, 5, 4, 8]\n",
    "np.argmax(probabilities_test)"
   ]
  },
  {
   "cell_type": "code",
   "execution_count": 99,
   "metadata": {},
   "outputs": [],
   "source": [
    "# cumsum_probabilities"
   ]
  },
  {
   "cell_type": "code",
   "execution_count": 104,
   "metadata": {},
   "outputs": [
    {
     "data": {
      "text/plain": [
       "3"
      ]
     },
     "execution_count": 104,
     "metadata": {},
     "output_type": "execute_result"
    }
   ],
   "source": [
    "np.searchsorted(cumsum_probabilities, probability)"
   ]
  },
  {
   "cell_type": "code",
   "execution_count": 113,
   "metadata": {},
   "outputs": [
    {
     "name": "stdout",
     "output_type": "stream",
     "text": [
      "Tests Passed\n"
     ]
    }
   ],
   "source": [
    "def pick_word(probabilities, int_to_vocab):\n",
    "    \"\"\"\n",
    "    Pick the next word in the generated text\n",
    "    :param probabilities: Probabilites of the next word\n",
    "    :param int_to_vocab: Dictionary of word ids as the keys and words as the values\n",
    "    :return: String of the predicted word\n",
    "    \"\"\"\n",
    "    \n",
    "    ### Approach 1 - doesn't work but seems logically correct ??### \n",
    "    # cumsum_probabilities = np.sort(probabilities) / np.sum(probabilities)\n",
    "    # probability = np.random.choice(prop_probabilities)\n",
    "    \n",
    "    # word_next = int_to_vocab[np.searchsorted(cumsum_probabilities, probability)]\n",
    "    \n",
    "    ### Approach 2 - doesn't work ###\n",
    "    # word_next = np.random.choice(int_to_vocab, 1, p=probabilities)\n",
    "    \n",
    "    ### Approach 3 - doesn't work ###\n",
    "    index = np.random.choice(len(int_to_vocab), p=probabilities)\n",
    "    word_next = int_to_vocab[index]\n",
    "    \n",
    "    return word_next\n",
    "\n",
    "\n",
    "\"\"\"\n",
    "DON'T MODIFY ANYTHING IN THIS CELL THAT IS BELOW THIS LINE\n",
    "\"\"\"\n",
    "tests.test_pick_word(pick_word)"
   ]
  },
  {
   "cell_type": "markdown",
   "metadata": {},
   "source": [
    "## Generate TV Script\n",
    "This will generate the TV script for you.  Set `gen_length` to the length of TV script you want to generate."
   ]
  },
  {
   "cell_type": "code",
   "execution_count": 114,
   "metadata": {},
   "outputs": [
    {
     "name": "stdout",
     "output_type": "stream",
     "text": [
      "INFO:tensorflow:Restoring parameters from ./save\n",
      "homer_simpson:(reading)\" can i borrow a feeling?\"(laughs) the\" no pal of springfield treasure.\n",
      "barney_gumble: i made it the fork in the eye?\n",
      "homer_simpson: all right, everybody knows-- the duff!\n",
      "seymour_skinner:(boozy) there's one of this gig. work here.\n",
      "moe_szyslak: i knew where to meet her.\n",
      "carl_carlson: yeah, but something i've never regretted it.\n",
      "moe_szyslak: geez, homer. i promise.\n",
      "carl_carlson: my scotch is in the wheel smugglers.\n",
      "moe_szyslak:(sobs like teenage girls) this book comes out comin' door.\n",
      "moe_szyslak:(pouring) oh, no! king toot's is closed for the night?\n",
      "football_announcer: at the end of the drink?\n",
      "homer_simpson: well, i can't really picture you say to my sponsor.\n",
      "white_rabbit:(sitting here) i'm marge.\n",
      "professor_jonathan_frink: the field was developed by statistician.\n",
      "lenny_leonard: i feel so insecure! please alcohol, how about all the?\n",
      "carl_carlson: whatever the hell doesn't that could say you in the alley.\"\n"
     ]
    }
   ],
   "source": [
    "gen_length = 200\n",
    "# homer_simpson, moe_szyslak, or Barney_Gumble\n",
    "prime_word = 'homer_simpson'\n",
    "\n",
    "\"\"\"\n",
    "DON'T MODIFY ANYTHING IN THIS CELL THAT IS BELOW THIS LINE\n",
    "\"\"\"\n",
    "loaded_graph = tf.Graph()\n",
    "with tf.Session(graph=loaded_graph) as sess:\n",
    "    # Load saved model\n",
    "    loader = tf.train.import_meta_graph(load_dir + '.meta')\n",
    "    loader.restore(sess, load_dir)\n",
    "\n",
    "    # Get Tensors from loaded model\n",
    "    input_text, initial_state, final_state, probs = get_tensors(loaded_graph)\n",
    "\n",
    "    # Sentences generation setup\n",
    "    gen_sentences = [prime_word + ':']\n",
    "    prev_state = sess.run(initial_state, {input_text: np.array([[1]])})\n",
    "\n",
    "    # Generate sentences\n",
    "    for n in range(gen_length):\n",
    "        # Dynamic Input\n",
    "        dyn_input = [[vocab_to_int[word] for word in gen_sentences[-seq_length:]]]\n",
    "        dyn_seq_length = len(dyn_input[0])\n",
    "\n",
    "        # Get Prediction\n",
    "        probabilities, prev_state = sess.run(\n",
    "            [probs, final_state],\n",
    "            {input_text: dyn_input, initial_state: prev_state})\n",
    "        \n",
    "        pred_word = pick_word(probabilities[0][dyn_seq_length-1], int_to_vocab)\n",
    "\n",
    "        gen_sentences.append(pred_word)\n",
    "    \n",
    "    # Remove tokens\n",
    "    tv_script = ' '.join(gen_sentences)\n",
    "    for key, token in token_dict.items():\n",
    "        ending = ' ' if key in ['\\n', '(', '\"'] else ''\n",
    "        tv_script = tv_script.replace(' ' + token.lower(), key)\n",
    "    tv_script = tv_script.replace('\\n ', '\\n')\n",
    "    tv_script = tv_script.replace('( ', '(')\n",
    "        \n",
    "    print(tv_script)"
   ]
  },
  {
   "cell_type": "markdown",
   "metadata": {},
   "source": [
    "# The TV Script is Nonsensical\n",
    "It's ok if the TV script doesn't make any sense.  We trained on less than a megabyte of text.  In order to get good results, you'll have to use a smaller vocabulary or get more data.  Luckily there's more data!  As we mentioned in the beggining of this project, this is a subset of [another dataset](https://www.kaggle.com/wcukierski/the-simpsons-by-the-data).  We didn't have you train on all the data, because that would take too long.  However, you are free to train your neural network on all the data.  After you complete the project, of course.\n",
    "# Submitting This Project\n",
    "When submitting this project, make sure to run all the cells before saving the notebook. Save the notebook file as \"dlnd_tv_script_generation.ipynb\" and save it as a HTML file under \"File\" -> \"Download as\". Include the \"helper.py\" and \"problem_unittests.py\" files in your submission."
   ]
  }
 ],
 "metadata": {
  "kernelspec": {
   "display_name": "Python 3",
   "language": "python",
   "name": "python3"
  },
  "language_info": {
   "codemirror_mode": {
    "name": "ipython",
    "version": 3
   },
   "file_extension": ".py",
   "mimetype": "text/x-python",
   "name": "python",
   "nbconvert_exporter": "python",
   "pygments_lexer": "ipython3",
   "version": "3.5.5"
  },
  "widgets": {
   "state": {},
   "version": "1.1.2"
  }
 },
 "nbformat": 4,
 "nbformat_minor": 1
}
